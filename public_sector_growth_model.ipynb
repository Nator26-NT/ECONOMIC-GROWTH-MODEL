{
 "cells": [
  {
   "cell_type": "markdown",
   "id": "d25cf40d",
   "metadata": {},
   "source": [
    "# South African Public Sector Employment Growth Prediction\n",
    "This notebook builds a linear regression model using employment data from 2020 and 2023, predicts employment for 2024–2028, and visualizes the results using Seaborn and Matplotlib."
   ]
  },
  {
   "cell_type": "code",
   "execution_count": null,
   "id": "11f9b7d7",
   "metadata": {},
   "outputs": [],
   "source": [
    "# Import necessary libraries\n",
    "import pandas as pd\n",
    "import numpy as np\n",
    "import matplotlib.pyplot as plt\n",
    "import seaborn as sns\n",
    "from sklearn.linear_model import LinearRegression"
   ]
  },
  {
   "cell_type": "markdown",
   "id": "eec9014d",
   "metadata": {},
   "source": [
    "## Sample Dataset\n",
    "We use a sample dataset representing employment in various public sectors in South Africa for the years 2020 and 2023."
   ]
  },
  {
   "cell_type": "code",
   "execution_count": null,
   "id": "0f4ab529",
   "metadata": {},
   "outputs": [],
   "source": [
    "# Sample dataset\n",
    "data = {\n",
    "    'Sector': [\n",
    "        'Education', 'Healthcare', 'Public Administration',\n",
    "        'Police Services', 'Social Development', 'Infrastructure',\n",
    "        'Environmental Affairs'\n",
    "    ],\n",
    "    'Employment_2020': [120000, 95000, 80000, 60000, 40000, 30000, 20000],\n",
    "    'Employment_2023': [135000, 105000, 85000, 65000, 45000, 35000, 25000]\n",
    "}\n",
    "\n",
    "df = pd.DataFrame(data)\n",
    "df"
   ]
  },
  {
   "cell_type": "markdown",
   "id": "cd03ebf1",
   "metadata": {},
   "source": [
    "## Data Transformation\n",
    "We reshape the data to prepare it for modeling."
   ]
  },
  {
   "cell_type": "code",
   "execution_count": null,
   "id": "c0c500f5",
   "metadata": {},
   "outputs": [],
   "source": [
    "# Reshape data for modeling\n",
    "df_long = pd.DataFrame({\n",
    "    'Sector': df['Sector'].repeat(2),\n",
    "    'Year': [2020, 2023] * len(df),\n",
    "    'Employment': np.concatenate([df['Employment_2020'], df['Employment_2023']])\n",
    "})\n",
    "df_long"
   ]
  },
  {
   "cell_type": "markdown",
   "id": "2f8ccfb1",
   "metadata": {},
   "source": [
    "## Model Training and Prediction\n",
    "We train a linear regression model for each sector and predict employment for the next five years."
   ]
  },
  {
   "cell_type": "code",
   "execution_count": null,
   "id": "91eb766b",
   "metadata": {},
   "outputs": [],
   "source": [
    "# Train linear regression model for each sector\n",
    "predictions = []\n",
    "for sector in df['Sector']:\n",
    "    sector_data = df_long[df_long['Sector'] == sector]\n",
    "    X = sector_data[['Year']]\n",
    "    y = sector_data['Employment']\n",
    "    \n",
    "    model = LinearRegression()\n",
    "    model.fit(X, y)\n",
    "    \n",
    "    future_years = np.array([[2024], [2025], [2026], [2027], [2028]])\n",
    "    predicted = model.predict(future_years)\n",
    "    \n",
    "    for year, emp in zip(future_years.flatten(), predicted):\n",
    "        predictions.append({'Sector': sector, 'Year': year, 'Predicted_Employment': emp})\n",
    "\n",
    "# Create prediction DataFrame\n",
    "prediction_df = pd.DataFrame(predictions)\n",
    "prediction_df"
   ]
  },
  {
   "cell_type": "markdown",
   "id": "1d77545f",
   "metadata": {},
   "source": [
    "## Visualization\n",
    "We visualize the actual and predicted employment data using Seaborn and Matplotlib."
   ]
  },
  {
   "cell_type": "code",
   "execution_count": null,
   "id": "22377a0f",
   "metadata": {},
   "outputs": [],
   "source": [
    "# Plot actual and predicted employment\n",
    "plt.figure(figsize=(12, 6))\n",
    "sns.lineplot(data=df_long, x='Year', y='Employment', hue='Sector', marker='o', legend=False)\n",
    "sns.lineplot(data=prediction_df, x='Year', y='Predicted_Employment', hue='Sector', linestyle='--')\n",
    "plt.title('South African Public Sector Employment Growth Prediction (2020–2028)')\n",
    "plt.xlabel('Year')\n",
    "plt.ylabel('Employment')\n",
    "plt.grid(True)\n",
    "plt.tight_layout()\n",
    "plt.show()"
   ]
  },
  {
   "cell_type": "markdown",
   "id": "494e167e",
   "metadata": {},
   "source": [
    "## Save Predictions\n",
    "We save the predicted employment data to a CSV file."
   ]
  },
  {
   "cell_type": "code",
   "execution_count": null,
   "id": "5c5d767c",
   "metadata": {},
   "outputs": [],
   "source": [
    "# Save predictions to CSV\n",
    "prediction_df.to_csv(\"employment_growth_predictions.csv\", index=False)"
   ]
  }
 ],
 "metadata": {},
 "nbformat": 4,
 "nbformat_minor": 5
}
